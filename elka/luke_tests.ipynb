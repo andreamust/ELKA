{
 "cells": [
  {
   "cell_type": "code",
   "execution_count": 1,
   "metadata": {
    "collapsed": true,
    "ExecuteTime": {
     "end_time": "2023-07-11T19:36:15.816640019Z",
     "start_time": "2023-07-11T19:36:15.083823612Z"
    }
   },
   "outputs": [],
   "source": [
    "from transformers import LukeTokenizer, LukeForEntityPairClassification, LukeModel"
   ]
  },
  {
   "cell_type": "code",
   "execution_count": 2,
   "outputs": [
    {
     "data": {
      "text/plain": "Downloading (…)lve/main/config.json:   0%|          | 0.00/836 [00:00<?, ?B/s]",
      "application/vnd.jupyter.widget-view+json": {
       "version_major": 2,
       "version_minor": 0,
       "model_id": "e35034e495fb4fbeb35194904faa13f7"
      }
     },
     "metadata": {},
     "output_type": "display_data"
    },
    {
     "data": {
      "text/plain": "Downloading pytorch_model.bin:   0%|          | 0.00/1.10G [00:00<?, ?B/s]",
      "application/vnd.jupyter.widget-view+json": {
       "version_major": 2,
       "version_minor": 0,
       "model_id": "a187342e5d854a73b1bb2084b78d56fb"
      }
     },
     "metadata": {},
     "output_type": "display_data"
    },
    {
     "name": "stderr",
     "output_type": "stream",
     "text": [
      "Some weights of the model checkpoint at studio-ousia/luke-base were not used when initializing LukeModel: ['lm_head.dense.weight', 'entity_predictions.transform.dense.bias', 'lm_head.dense.bias', 'entity_predictions.transform.LayerNorm.weight', 'lm_head.layer_norm.bias', 'entity_predictions.transform.dense.weight', 'lm_head.layer_norm.weight', 'entity_predictions.transform.LayerNorm.bias', 'entity_predictions.bias', 'lm_head.bias']\n",
      "- This IS expected if you are initializing LukeModel from the checkpoint of a model trained on another task or with another architecture (e.g. initializing a BertForSequenceClassification model from a BertForPreTraining model).\n",
      "- This IS NOT expected if you are initializing LukeModel from the checkpoint of a model that you expect to be exactly identical (initializing a BertForSequenceClassification model from a BertForSequenceClassification model).\n"
     ]
    },
    {
     "data": {
      "text/plain": "Downloading (…)olve/main/vocab.json:   0%|          | 0.00/899k [00:00<?, ?B/s]",
      "application/vnd.jupyter.widget-view+json": {
       "version_major": 2,
       "version_minor": 0,
       "model_id": "94e5bc3e30504d1aa7e97e9a06d66faf"
      }
     },
     "metadata": {},
     "output_type": "display_data"
    },
    {
     "data": {
      "text/plain": "Downloading (…)olve/main/merges.txt:   0%|          | 0.00/456k [00:00<?, ?B/s]",
      "application/vnd.jupyter.widget-view+json": {
       "version_major": 2,
       "version_minor": 0,
       "model_id": "1b35fb7cd8754aec9d6914fe654ff1b6"
      }
     },
     "metadata": {},
     "output_type": "display_data"
    },
    {
     "data": {
      "text/plain": "Downloading entity_vocab.json:   0%|          | 0.00/15.3M [00:00<?, ?B/s]",
      "application/vnd.jupyter.widget-view+json": {
       "version_major": 2,
       "version_minor": 0,
       "model_id": "f89cc7ffcfc24571892ae0a7242a901d"
      }
     },
     "metadata": {},
     "output_type": "display_data"
    },
    {
     "data": {
      "text/plain": "Downloading (…)in/added_tokens.json:   0%|          | 0.00/33.0 [00:00<?, ?B/s]",
      "application/vnd.jupyter.widget-view+json": {
       "version_major": 2,
       "version_minor": 0,
       "model_id": "73bcd59aa54d46438b648284b5afc90a"
      }
     },
     "metadata": {},
     "output_type": "display_data"
    },
    {
     "data": {
      "text/plain": "Downloading (…)cial_tokens_map.json:   0%|          | 0.00/1.00k [00:00<?, ?B/s]",
      "application/vnd.jupyter.widget-view+json": {
       "version_major": 2,
       "version_minor": 0,
       "model_id": "e7c0b081338b4780a6dc6dbaad2c102b"
      }
     },
     "metadata": {},
     "output_type": "display_data"
    },
    {
     "data": {
      "text/plain": "Downloading (…)okenizer_config.json:   0%|          | 0.00/1.04k [00:00<?, ?B/s]",
      "application/vnd.jupyter.widget-view+json": {
       "version_major": 2,
       "version_minor": 0,
       "model_id": "09eefd3e596b4d04ad0d7c9a01ed29bb"
      }
     },
     "metadata": {},
     "output_type": "display_data"
    }
   ],
   "source": [
    "model = LukeModel.from_pretrained(\"studio-ousia/luke-base\")\n",
    "tokenizer = LukeTokenizer.from_pretrained(\"studio-ousia/luke-base\")"
   ],
   "metadata": {
    "collapsed": false,
    "ExecuteTime": {
     "end_time": "2023-07-11T19:36:32.594330129Z",
     "start_time": "2023-07-11T19:36:15.818362886Z"
    }
   }
  },
  {
   "cell_type": "code",
   "execution_count": 3,
   "outputs": [],
   "source": [
    "text = \"Beyoncé lives in Los Angeles.\"\n",
    "entity_spans = [(0, 7)]  # character-based entity span corresponding to \"Beyoncé\"\n",
    "inputs = tokenizer(text, entity_spans=entity_spans, add_prefix_space=True, return_tensors=\"pt\")\n",
    "outputs = model(**inputs)\n",
    "word_last_hidden_state = outputs.last_hidden_state\n",
    "entity_last_hidden_state = outputs.entity_last_hidden_state"
   ],
   "metadata": {
    "collapsed": false,
    "ExecuteTime": {
     "end_time": "2023-07-11T19:36:32.640217174Z",
     "start_time": "2023-07-11T19:36:32.596552408Z"
    }
   }
  },
  {
   "cell_type": "code",
   "execution_count": 5,
   "outputs": [
    {
     "data": {
      "text/plain": "tensor([[[-0.0750,  0.1368, -0.0118,  ..., -0.1797, -0.0724, -0.1073],\n         [ 0.0077,  0.1952,  0.0277,  ..., -0.0743, -0.0682, -0.0919],\n         [-0.1196,  0.2052,  0.0558,  ..., -0.2972, -0.1206, -0.0198],\n         ...,\n         [-0.0892,  0.3837, -0.0540,  ..., -0.2223, -0.1702,  0.1766],\n         [-0.0691,  0.1376, -0.0228,  ..., -0.2016, -0.0749, -0.1209],\n         [-0.1226,  0.1326,  0.0051,  ..., -0.0454, -0.1029, -0.0115]]],\n       grad_fn=<SliceBackward0>)"
     },
     "execution_count": 5,
     "metadata": {},
     "output_type": "execute_result"
    }
   ],
   "source": [
    "outputs."
   ],
   "metadata": {
    "collapsed": false,
    "ExecuteTime": {
     "end_time": "2023-07-11T19:37:29.286637211Z",
     "start_time": "2023-07-11T19:37:29.282300930Z"
    }
   }
  },
  {
   "cell_type": "code",
   "execution_count": null,
   "outputs": [],
   "source": [],
   "metadata": {
    "collapsed": false
   }
  }
 ],
 "metadata": {
  "kernelspec": {
   "display_name": "Python 3",
   "language": "python",
   "name": "python3"
  },
  "language_info": {
   "codemirror_mode": {
    "name": "ipython",
    "version": 2
   },
   "file_extension": ".py",
   "mimetype": "text/x-python",
   "name": "python",
   "nbconvert_exporter": "python",
   "pygments_lexer": "ipython2",
   "version": "2.7.6"
  }
 },
 "nbformat": 4,
 "nbformat_minor": 0
}
